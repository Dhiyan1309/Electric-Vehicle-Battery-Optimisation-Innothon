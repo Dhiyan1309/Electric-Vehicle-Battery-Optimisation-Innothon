{
 "cells": [
  {
   "cell_type": "code",
   "execution_count": 1,
   "id": "7895d934-f24b-42c9-beb7-601f7aac5c89",
   "metadata": {},
   "outputs": [],
   "source": [
    "import pandas as pd\n",
    "import numpy as np\n",
    "import seaborn as sns\n",
    "import matplotlib.pyplot as plt\n",
    "\n",
    "%matplotlib inline\n",
    "sns.set_style('darkgrid')\n",
    "plt.style.use('dark_background')"
   ]
  },
  {
   "cell_type": "code",
   "execution_count": 2,
   "id": "3cc8176a-7114-49b4-bec3-aadf3fb3043e",
   "metadata": {},
   "outputs": [
    {
     "data": {
      "text/html": [
       "<div>\n",
       "<style scoped>\n",
       "    .dataframe tbody tr th:only-of-type {\n",
       "        vertical-align: middle;\n",
       "    }\n",
       "\n",
       "    .dataframe tbody tr th {\n",
       "        vertical-align: top;\n",
       "    }\n",
       "\n",
       "    .dataframe thead th {\n",
       "        text-align: right;\n",
       "    }\n",
       "</style>\n",
       "<table border=\"1\" class=\"dataframe\">\n",
       "  <thead>\n",
       "    <tr style=\"text-align: right;\">\n",
       "      <th></th>\n",
       "      <th>AccX</th>\n",
       "      <th>AccY</th>\n",
       "      <th>AccZ</th>\n",
       "      <th>GyroX</th>\n",
       "      <th>GyroY</th>\n",
       "      <th>GyroZ</th>\n",
       "      <th>Class</th>\n",
       "      <th>Timestamp</th>\n",
       "    </tr>\n",
       "  </thead>\n",
       "  <tbody>\n",
       "    <tr>\n",
       "      <th>0</th>\n",
       "      <td>0.000000</td>\n",
       "      <td>0.000000</td>\n",
       "      <td>0.000000</td>\n",
       "      <td>0.059407</td>\n",
       "      <td>-0.174707</td>\n",
       "      <td>0.101938</td>\n",
       "      <td>NORMAL</td>\n",
       "      <td>3581629</td>\n",
       "    </tr>\n",
       "    <tr>\n",
       "      <th>1</th>\n",
       "      <td>-1.624864</td>\n",
       "      <td>-1.082492</td>\n",
       "      <td>-0.204183</td>\n",
       "      <td>-0.028558</td>\n",
       "      <td>0.051313</td>\n",
       "      <td>0.135536</td>\n",
       "      <td>NORMAL</td>\n",
       "      <td>3581630</td>\n",
       "    </tr>\n",
       "    <tr>\n",
       "      <th>2</th>\n",
       "      <td>-0.594660</td>\n",
       "      <td>-0.122410</td>\n",
       "      <td>0.220502</td>\n",
       "      <td>-0.019395</td>\n",
       "      <td>-0.029322</td>\n",
       "      <td>0.087888</td>\n",
       "      <td>NORMAL</td>\n",
       "      <td>3581630</td>\n",
       "    </tr>\n",
       "    <tr>\n",
       "      <th>3</th>\n",
       "      <td>0.738478</td>\n",
       "      <td>-0.228456</td>\n",
       "      <td>0.667732</td>\n",
       "      <td>0.069791</td>\n",
       "      <td>-0.029932</td>\n",
       "      <td>0.054902</td>\n",
       "      <td>NORMAL</td>\n",
       "      <td>3581631</td>\n",
       "    </tr>\n",
       "    <tr>\n",
       "      <th>4</th>\n",
       "      <td>0.101741</td>\n",
       "      <td>0.777568</td>\n",
       "      <td>-0.066730</td>\n",
       "      <td>0.030696</td>\n",
       "      <td>-0.003665</td>\n",
       "      <td>0.054902</td>\n",
       "      <td>NORMAL</td>\n",
       "      <td>3581631</td>\n",
       "    </tr>\n",
       "  </tbody>\n",
       "</table>\n",
       "</div>"
      ],
      "text/plain": [
       "       AccX      AccY      AccZ     GyroX     GyroY     GyroZ   Class  \\\n",
       "0  0.000000  0.000000  0.000000  0.059407 -0.174707  0.101938  NORMAL   \n",
       "1 -1.624864 -1.082492 -0.204183 -0.028558  0.051313  0.135536  NORMAL   \n",
       "2 -0.594660 -0.122410  0.220502 -0.019395 -0.029322  0.087888  NORMAL   \n",
       "3  0.738478 -0.228456  0.667732  0.069791 -0.029932  0.054902  NORMAL   \n",
       "4  0.101741  0.777568 -0.066730  0.030696 -0.003665  0.054902  NORMAL   \n",
       "\n",
       "   Timestamp  \n",
       "0    3581629  \n",
       "1    3581630  \n",
       "2    3581630  \n",
       "3    3581631  \n",
       "4    3581631  "
      ]
     },
     "execution_count": 2,
     "metadata": {},
     "output_type": "execute_result"
    }
   ],
   "source": [
    "data = pd.read_csv(\"train_motion_data.csv\")\n",
    "data.head()"
   ]
  },
  {
   "cell_type": "code",
   "execution_count": 3,
   "id": "adb66b0f-89ef-4c86-9b09-1749064046c2",
   "metadata": {},
   "outputs": [],
   "source": [
    "from sklearn.preprocessing import LabelEncoder, StandardScaler\n",
    "from tensorflow.keras.utils import to_categorical\n",
    "\n",
    "encoder = LabelEncoder()\n",
    "\n",
    "data['Class'] = encoder.fit_transform(data['Class'])\n",
    "y = to_categorical(data['Class'])"
   ]
  },
  {
   "cell_type": "code",
   "execution_count": 4,
   "id": "3fb8930c-b0f9-4c84-97d6-8cc4a5ac091e",
   "metadata": {},
   "outputs": [],
   "source": [
    "scaler = StandardScaler()\n",
    "features = ['AccX', 'AccY', 'AccZ', 'GyroX', 'GyroY', 'GyroZ']\n",
    "data[features] = scaler.fit_transform(data[features])"
   ]
  },
  {
   "cell_type": "code",
   "execution_count": 5,
   "id": "b9f56bc6-10cc-4530-84aa-c54e09b10a8a",
   "metadata": {},
   "outputs": [
    {
     "name": "stdout",
     "output_type": "stream",
     "text": [
      "Training shape: (2907, 10, 6) Testing shape: (727, 10, 6)\n"
     ]
    }
   ],
   "source": [
    "from sklearn.model_selection import train_test_split\n",
    "\n",
    "# Define sequence length (e.g., 10 previous timesteps per sample)\n",
    "sequence_length = 10\n",
    "\n",
    "def create_sequences(data, labels, seq_length):\n",
    "    X, y = [], []\n",
    "    for i in range(len(data) - seq_length):\n",
    "        X.append(data[i:i + seq_length])\n",
    "        y.append(labels[i + seq_length])\n",
    "    return np.array(X), np.array(y)\n",
    "\n",
    "# Convert features and labels into sequences\n",
    "X_data, y_data = create_sequences(data[features].values, y, sequence_length)\n",
    "\n",
    "# Split into train and test sets\n",
    "X_train, X_test, y_train, y_test = train_test_split(X_data, y_data, test_size=0.2, random_state=42)\n",
    "\n",
    "print(\"Training shape:\", X_train.shape, \"Testing shape:\", X_test.shape)\n",
    "# Output Example: (samples, timesteps=10, features=6)\n",
    "# NOTE: modify timesteps to test accuracy"
   ]
  },
  {
   "cell_type": "code",
   "execution_count": 6,
   "id": "fb4a6a1d-72eb-4d2c-b316-fc5810c0c106",
   "metadata": {},
   "outputs": [],
   "source": [
    "import tensorflow as tf\n",
    "from tensorflow.keras.models import Sequential\n",
    "from tensorflow.keras.layers import LSTM, Dense, Dropout"
   ]
  },
  {
   "cell_type": "code",
   "execution_count": 7,
   "id": "b612db8d-632d-4a17-bc8c-f1301bbf8b0d",
   "metadata": {},
   "outputs": [
    {
     "name": "stderr",
     "output_type": "stream",
     "text": [
      "2025-02-14 22:20:07.279342: I metal_plugin/src/device/metal_device.cc:1154] Metal device set to: Apple M1\n",
      "2025-02-14 22:20:07.279589: I metal_plugin/src/device/metal_device.cc:296] systemMemory: 8.00 GB\n",
      "2025-02-14 22:20:07.279613: I metal_plugin/src/device/metal_device.cc:313] maxCacheSize: 2.67 GB\n",
      "2025-02-14 22:20:07.280008: I tensorflow/core/common_runtime/pluggable_device/pluggable_device_factory.cc:303] Could not identify NUMA node of platform GPU ID 0, defaulting to 0. Your kernel may not have been built with NUMA support.\n",
      "2025-02-14 22:20:07.280445: I tensorflow/core/common_runtime/pluggable_device/pluggable_device_factory.cc:269] Created TensorFlow device (/job:localhost/replica:0/task:0/device:GPU:0 with 0 MB memory) -> physical PluggableDevice (device: 0, name: METAL, pci bus id: <undefined>)\n"
     ]
    },
    {
     "name": "stdout",
     "output_type": "stream",
     "text": [
      "Model: \"sequential\"\n",
      "_________________________________________________________________\n",
      " Layer (type)                Output Shape              Param #   \n",
      "=================================================================\n",
      " lstm (LSTM)                 (None, 10, 64)            18176     \n",
      "                                                                 \n",
      " dropout (Dropout)           (None, 10, 64)            0         \n",
      "                                                                 \n",
      " lstm_1 (LSTM)               (None, 32)                12416     \n",
      "                                                                 \n",
      " dropout_1 (Dropout)         (None, 32)                0         \n",
      "                                                                 \n",
      " dense (Dense)               (None, 16)                528       \n",
      "                                                                 \n",
      " dense_1 (Dense)             (None, 3)                 51        \n",
      "                                                                 \n",
      "=================================================================\n",
      "Total params: 31171 (121.76 KB)\n",
      "Trainable params: 31171 (121.76 KB)\n",
      "Non-trainable params: 0 (0.00 Byte)\n",
      "_________________________________________________________________\n"
     ]
    }
   ],
   "source": [
    "model = Sequential([\n",
    "    LSTM(64, return_sequences=True, input_shape=(sequence_length, len(features))), \n",
    "    Dropout(0.2),\n",
    "    LSTM(32), \n",
    "    Dropout(0.2),\n",
    "    Dense(16, activation='relu'), \n",
    "    Dense(3, activation='softmax')\n",
    "])\n",
    "\n",
    "model.compile(loss='categorical_crossentropy', optimizer='adam', metrics=['accuracy'])\n",
    "model.summary()"
   ]
  },
  {
   "cell_type": "code",
   "execution_count": 8,
   "id": "ffec8692-1c8b-4922-bf2d-fa355b01d86f",
   "metadata": {},
   "outputs": [
    {
     "name": "stdout",
     "output_type": "stream",
     "text": [
      "Epoch 1/50\n"
     ]
    },
    {
     "name": "stderr",
     "output_type": "stream",
     "text": [
      "2025-02-14 22:20:20.945310: I tensorflow/core/grappler/optimizers/custom_graph_optimizer_registry.cc:114] Plugin optimizer for device_type GPU is enabled.\n",
      "2025-02-14 22:20:21.171355: I tensorflow/core/grappler/optimizers/custom_graph_optimizer_registry.cc:114] Plugin optimizer for device_type GPU is enabled.\n",
      "2025-02-14 22:20:21.765665: I tensorflow/core/grappler/optimizers/custom_graph_optimizer_registry.cc:114] Plugin optimizer for device_type GPU is enabled.\n",
      "2025-02-14 22:20:23.438918: I tensorflow/core/grappler/optimizers/custom_graph_optimizer_registry.cc:114] Plugin optimizer for device_type GPU is enabled.\n",
      "2025-02-14 22:20:24.048913: I tensorflow/core/grappler/optimizers/custom_graph_optimizer_registry.cc:114] Plugin optimizer for device_type GPU is enabled.\n"
     ]
    },
    {
     "name": "stdout",
     "output_type": "stream",
     "text": [
      "91/91 [==============================] - ETA: 0s - loss: 1.0688 - accuracy: 0.4145"
     ]
    },
    {
     "name": "stderr",
     "output_type": "stream",
     "text": [
      "2025-02-14 22:20:26.406753: I tensorflow/core/grappler/optimizers/custom_graph_optimizer_registry.cc:114] Plugin optimizer for device_type GPU is enabled.\n",
      "2025-02-14 22:20:26.462808: I tensorflow/core/grappler/optimizers/custom_graph_optimizer_registry.cc:114] Plugin optimizer for device_type GPU is enabled.\n",
      "2025-02-14 22:20:26.501104: I tensorflow/core/grappler/optimizers/custom_graph_optimizer_registry.cc:114] Plugin optimizer for device_type GPU is enabled.\n"
     ]
    },
    {
     "name": "stdout",
     "output_type": "stream",
     "text": [
      "91/91 [==============================] - 7s 28ms/step - loss: 1.0688 - accuracy: 0.4145 - val_loss: 1.0615 - val_accuracy: 0.4292\n",
      "Epoch 2/50\n",
      "91/91 [==============================] - 1s 16ms/step - loss: 0.9782 - accuracy: 0.4950 - val_loss: 0.9537 - val_accuracy: 0.5131\n",
      "Epoch 3/50\n",
      "91/91 [==============================] - 1s 15ms/step - loss: 0.8750 - accuracy: 0.5415 - val_loss: 0.8562 - val_accuracy: 0.5681\n",
      "Epoch 4/50\n",
      "91/91 [==============================] - 1s 15ms/step - loss: 0.8133 - accuracy: 0.5896 - val_loss: 0.8090 - val_accuracy: 0.5915\n",
      "Epoch 5/50\n",
      "91/91 [==============================] - 1s 15ms/step - loss: 0.7797 - accuracy: 0.6061 - val_loss: 0.7960 - val_accuracy: 0.5846\n",
      "Epoch 6/50\n",
      "91/91 [==============================] - 1s 15ms/step - loss: 0.7300 - accuracy: 0.6371 - val_loss: 0.7695 - val_accuracy: 0.6149\n",
      "Epoch 7/50\n",
      "91/91 [==============================] - 1s 15ms/step - loss: 0.6876 - accuracy: 0.6543 - val_loss: 0.7363 - val_accuracy: 0.6424\n",
      "Epoch 8/50\n",
      "91/91 [==============================] - 1s 15ms/step - loss: 0.6629 - accuracy: 0.6735 - val_loss: 0.7126 - val_accuracy: 0.6561\n",
      "Epoch 9/50\n",
      "91/91 [==============================] - 1s 15ms/step - loss: 0.6310 - accuracy: 0.7007 - val_loss: 0.6943 - val_accuracy: 0.6506\n",
      "Epoch 10/50\n",
      "91/91 [==============================] - 1s 15ms/step - loss: 0.5892 - accuracy: 0.7282 - val_loss: 0.6577 - val_accuracy: 0.6836\n",
      "Epoch 11/50\n",
      "91/91 [==============================] - 1s 15ms/step - loss: 0.5713 - accuracy: 0.7441 - val_loss: 0.6802 - val_accuracy: 0.6919\n",
      "Epoch 12/50\n",
      "91/91 [==============================] - 1s 16ms/step - loss: 0.5340 - accuracy: 0.7564 - val_loss: 0.6815 - val_accuracy: 0.7111\n",
      "Epoch 13/50\n",
      "91/91 [==============================] - 1s 16ms/step - loss: 0.5033 - accuracy: 0.7706 - val_loss: 0.5995 - val_accuracy: 0.7180\n",
      "Epoch 14/50\n",
      "91/91 [==============================] - 1s 15ms/step - loss: 0.4749 - accuracy: 0.7826 - val_loss: 0.6396 - val_accuracy: 0.7111\n",
      "Epoch 15/50\n",
      "91/91 [==============================] - 1s 15ms/step - loss: 0.4409 - accuracy: 0.8043 - val_loss: 0.5584 - val_accuracy: 0.7579\n",
      "Epoch 16/50\n",
      "91/91 [==============================] - 1s 16ms/step - loss: 0.4394 - accuracy: 0.8094 - val_loss: 0.5718 - val_accuracy: 0.7497\n",
      "Epoch 17/50\n",
      "91/91 [==============================] - 1s 16ms/step - loss: 0.3910 - accuracy: 0.8215 - val_loss: 0.5187 - val_accuracy: 0.7717\n",
      "Epoch 18/50\n",
      "91/91 [==============================] - 1s 15ms/step - loss: 0.3675 - accuracy: 0.8407 - val_loss: 0.4335 - val_accuracy: 0.8143\n",
      "Epoch 19/50\n",
      "91/91 [==============================] - 1s 15ms/step - loss: 0.3416 - accuracy: 0.8562 - val_loss: 0.4750 - val_accuracy: 0.7964\n",
      "Epoch 20/50\n",
      "91/91 [==============================] - 1s 16ms/step - loss: 0.3200 - accuracy: 0.8590 - val_loss: 0.4821 - val_accuracy: 0.7923\n",
      "Epoch 21/50\n",
      "91/91 [==============================] - 1s 16ms/step - loss: 0.2847 - accuracy: 0.8813 - val_loss: 0.4176 - val_accuracy: 0.8377\n",
      "Epoch 22/50\n",
      "91/91 [==============================] - 1s 15ms/step - loss: 0.2633 - accuracy: 0.8923 - val_loss: 0.3968 - val_accuracy: 0.8377\n",
      "Epoch 23/50\n",
      "91/91 [==============================] - 1s 16ms/step - loss: 0.2407 - accuracy: 0.9020 - val_loss: 0.3755 - val_accuracy: 0.8624\n",
      "Epoch 24/50\n",
      "91/91 [==============================] - 1s 16ms/step - loss: 0.2092 - accuracy: 0.9150 - val_loss: 0.3649 - val_accuracy: 0.8624\n",
      "Epoch 25/50\n",
      "91/91 [==============================] - 1s 16ms/step - loss: 0.2055 - accuracy: 0.9168 - val_loss: 0.3663 - val_accuracy: 0.8611\n",
      "Epoch 26/50\n",
      "91/91 [==============================] - 1s 16ms/step - loss: 0.1722 - accuracy: 0.9298 - val_loss: 0.3075 - val_accuracy: 0.8790\n",
      "Epoch 27/50\n",
      "91/91 [==============================] - 1s 16ms/step - loss: 0.1856 - accuracy: 0.9305 - val_loss: 0.2782 - val_accuracy: 0.8941\n",
      "Epoch 28/50\n",
      "91/91 [==============================] - 1s 16ms/step - loss: 0.1436 - accuracy: 0.9436 - val_loss: 0.2778 - val_accuracy: 0.9010\n",
      "Epoch 29/50\n",
      "91/91 [==============================] - 1s 15ms/step - loss: 0.1462 - accuracy: 0.9429 - val_loss: 0.3304 - val_accuracy: 0.8845\n",
      "Epoch 30/50\n",
      "91/91 [==============================] - 1s 16ms/step - loss: 0.1536 - accuracy: 0.9388 - val_loss: 0.2554 - val_accuracy: 0.9147\n",
      "Epoch 31/50\n",
      "91/91 [==============================] - 1s 16ms/step - loss: 0.1135 - accuracy: 0.9594 - val_loss: 0.2648 - val_accuracy: 0.9023\n",
      "Epoch 32/50\n",
      "91/91 [==============================] - 1s 16ms/step - loss: 0.0874 - accuracy: 0.9680 - val_loss: 0.2525 - val_accuracy: 0.9202\n",
      "Epoch 33/50\n",
      "91/91 [==============================] - 1s 16ms/step - loss: 0.0941 - accuracy: 0.9649 - val_loss: 0.2656 - val_accuracy: 0.9175\n",
      "Epoch 34/50\n",
      "91/91 [==============================] - 1s 16ms/step - loss: 0.0866 - accuracy: 0.9697 - val_loss: 0.3325 - val_accuracy: 0.9106\n",
      "Epoch 35/50\n",
      "91/91 [==============================] - 1s 16ms/step - loss: 0.0718 - accuracy: 0.9745 - val_loss: 0.2252 - val_accuracy: 0.9271\n",
      "Epoch 36/50\n",
      "91/91 [==============================] - 1s 15ms/step - loss: 0.0673 - accuracy: 0.9773 - val_loss: 0.2776 - val_accuracy: 0.9257\n",
      "Epoch 37/50\n",
      "91/91 [==============================] - 1s 16ms/step - loss: 0.0626 - accuracy: 0.9787 - val_loss: 0.3029 - val_accuracy: 0.9065\n",
      "Epoch 38/50\n",
      "91/91 [==============================] - 1s 16ms/step - loss: 0.0534 - accuracy: 0.9842 - val_loss: 0.2724 - val_accuracy: 0.9133\n",
      "Epoch 39/50\n",
      "91/91 [==============================] - 1s 16ms/step - loss: 0.0549 - accuracy: 0.9794 - val_loss: 0.2225 - val_accuracy: 0.9326\n",
      "Epoch 40/50\n",
      "91/91 [==============================] - 1s 16ms/step - loss: 0.0346 - accuracy: 0.9876 - val_loss: 0.2256 - val_accuracy: 0.9216\n",
      "Epoch 41/50\n",
      "91/91 [==============================] - 1s 16ms/step - loss: 0.0437 - accuracy: 0.9838 - val_loss: 0.2756 - val_accuracy: 0.9147\n",
      "Epoch 42/50\n",
      "91/91 [==============================] - 1s 15ms/step - loss: 0.0497 - accuracy: 0.9818 - val_loss: 0.2427 - val_accuracy: 0.9381\n",
      "Epoch 43/50\n",
      "91/91 [==============================] - 1s 15ms/step - loss: 0.0609 - accuracy: 0.9790 - val_loss: 0.2922 - val_accuracy: 0.9023\n",
      "Epoch 44/50\n",
      "91/91 [==============================] - 1s 15ms/step - loss: 0.0435 - accuracy: 0.9845 - val_loss: 0.3131 - val_accuracy: 0.9188\n",
      "Epoch 45/50\n",
      "91/91 [==============================] - 1s 16ms/step - loss: 0.0318 - accuracy: 0.9897 - val_loss: 0.2670 - val_accuracy: 0.9395\n",
      "Epoch 46/50\n",
      "91/91 [==============================] - 1s 16ms/step - loss: 0.0280 - accuracy: 0.9893 - val_loss: 0.3296 - val_accuracy: 0.9216\n",
      "Epoch 47/50\n",
      "91/91 [==============================] - 1s 16ms/step - loss: 0.0306 - accuracy: 0.9886 - val_loss: 0.2646 - val_accuracy: 0.9367\n",
      "Epoch 48/50\n",
      "91/91 [==============================] - 1s 15ms/step - loss: 0.0211 - accuracy: 0.9928 - val_loss: 0.2619 - val_accuracy: 0.9271\n",
      "Epoch 49/50\n",
      "91/91 [==============================] - 1s 15ms/step - loss: 0.0257 - accuracy: 0.9921 - val_loss: 0.2512 - val_accuracy: 0.9340\n",
      "Epoch 50/50\n",
      "91/91 [==============================] - 1s 16ms/step - loss: 0.0191 - accuracy: 0.9938 - val_loss: 0.2732 - val_accuracy: 0.9285\n"
     ]
    }
   ],
   "source": [
    "history = model.fit(X_train, y_train, epochs=50, batch_size=32, validation_data=(X_test, y_test))"
   ]
  },
  {
   "cell_type": "code",
   "execution_count": 9,
   "id": "ccabfc2c-7335-45a4-979e-76a026834796",
   "metadata": {},
   "outputs": [
    {
     "name": "stdout",
     "output_type": "stream",
     "text": [
      " 1/23 [>.............................] - ETA: 7s"
     ]
    },
    {
     "name": "stderr",
     "output_type": "stream",
     "text": [
      "2025-02-14 22:22:44.185761: I tensorflow/core/grappler/optimizers/custom_graph_optimizer_registry.cc:114] Plugin optimizer for device_type GPU is enabled.\n",
      "2025-02-14 22:22:44.247078: I tensorflow/core/grappler/optimizers/custom_graph_optimizer_registry.cc:114] Plugin optimizer for device_type GPU is enabled.\n",
      "2025-02-14 22:22:44.298753: I tensorflow/core/grappler/optimizers/custom_graph_optimizer_registry.cc:114] Plugin optimizer for device_type GPU is enabled.\n"
     ]
    },
    {
     "name": "stdout",
     "output_type": "stream",
     "text": [
      "23/23 [==============================] - 0s 4ms/step\n"
     ]
    }
   ],
   "source": [
    "y_pred = model.predict(X_test)\n",
    "\n",
    "# Convert predictions back to label format\n",
    "y_pred_labels = np.argmax(y_pred, axis=1)\n",
    "y_test_labels = np.argmax(y_test, axis=1)\n",
    "\n",
    "# Decode labels back to original categories\n",
    "y_pred_classes = encoder.inverse_transform(y_pred_labels)\n",
    "y_test_classes = encoder.inverse_transform(y_test_labels)"
   ]
  },
  {
   "cell_type": "code",
   "execution_count": 10,
   "id": "f64b5b81-caf3-41b1-8d42-31a83df3ded6",
   "metadata": {},
   "outputs": [
    {
     "name": "stdout",
     "output_type": "stream",
     "text": [
      "              precision    recall  f1-score   support\n",
      "\n",
      "  AGGRESSIVE       0.96      0.93      0.94       211\n",
      "      NORMAL       0.92      0.91      0.91       260\n",
      "        SLOW       0.92      0.94      0.93       256\n",
      "\n",
      "    accuracy                           0.93       727\n",
      "   macro avg       0.93      0.93      0.93       727\n",
      "weighted avg       0.93      0.93      0.93       727\n",
      "\n"
     ]
    }
   ],
   "source": [
    "from sklearn.metrics import classification_report\n",
    "\n",
    "print(classification_report(y_test_classes, y_pred_classes))"
   ]
  },
  {
   "cell_type": "code",
   "execution_count": 15,
   "id": "924daa93-0219-4eeb-a4a1-b81ad23791cb",
   "metadata": {},
   "outputs": [
    {
     "name": "stderr",
     "output_type": "stream",
     "text": [
      "/Users/aswatt/miniforge3/envs/BattOPT/lib/python3.8/site-packages/keras/src/engine/training.py:3000: UserWarning: You are saving your model as an HDF5 file via `model.save()`. This file format is considered legacy. We recommend using instead the native Keras format, e.g. `model.save('my_model.keras')`.\n",
      "  saving_api.save_model(\n"
     ]
    }
   ],
   "source": [
    "from tensorflow.keras.models import load_model\n",
    "\n",
    "# Save the trained LSTM model\n",
    "model.save('lstm_driving_behavior.h5')"
   ]
  },
  {
   "cell_type": "code",
   "execution_count": 16,
   "id": "6d340aa7-715f-4917-aaed-3d4f883d8aee",
   "metadata": {},
   "outputs": [
    {
     "data": {
      "text/plain": [
       "['scaler.pkl']"
      ]
     },
     "execution_count": 16,
     "metadata": {},
     "output_type": "execute_result"
    }
   ],
   "source": [
    "import joblib\n",
    "\n",
    "# Assuming 'scaler' was used for data normalization during training\n",
    "joblib.dump(scaler, 'scaler.pkl')"
   ]
  }
 ],
 "metadata": {
  "kernelspec": {
   "display_name": "Python 3 (ipykernel)",
   "language": "python",
   "name": "python3"
  },
  "language_info": {
   "codemirror_mode": {
    "name": "ipython",
    "version": 3
   },
   "file_extension": ".py",
   "mimetype": "text/x-python",
   "name": "python",
   "nbconvert_exporter": "python",
   "pygments_lexer": "ipython3",
   "version": "3.8.19"
  }
 },
 "nbformat": 4,
 "nbformat_minor": 5
}
